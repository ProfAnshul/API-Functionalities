{
 "cells": [
  {
   "cell_type": "markdown",
   "metadata": {},
   "source": [
    "This exercise will require you to pull some data from the Qunadl API. Qaundl is currently the most widely used aggregator of financial market data."
   ]
  },
  {
   "cell_type": "markdown",
   "metadata": {},
   "source": [
    "As a first step, you will need to register a free account on the http://www.quandl.com website."
   ]
  },
  {
   "cell_type": "markdown",
   "metadata": {},
   "source": [
    "After you register, you will be provided with a unique API key, that you should store:"
   ]
  },
  {
   "cell_type": "code",
   "execution_count": 2,
   "metadata": {},
   "outputs": [],
   "source": [
    "import os "
   ]
  },
  {
   "cell_type": "code",
   "execution_count": 3,
   "metadata": {},
   "outputs": [],
   "source": [
    "# Store the API key as a string - according to PEP8, constants are always named in all upper case\n",
    "API_KEY = os.environ.get('Qundl_API_KEY')"
   ]
  },
  {
   "cell_type": "markdown",
   "metadata": {},
   "source": [
    "Qaundl has a large number of data sources, but, unfortunately, most of them require a Premium subscription. Still, there are also a good number of free datasets."
   ]
  },
  {
   "cell_type": "markdown",
   "metadata": {},
   "source": [
    "For this mini project, we will focus on equities data from the Frankfurt Stock Exhange (FSE), which is available for free. We'll try and analyze the stock prices of a company called Carl Zeiss Meditec, which manufactures tools for eye examinations, as well as medical lasers for laser eye surgery: https://www.zeiss.com/meditec/int/home.html. The company is listed under the stock ticker AFX_X."
   ]
  },
  {
   "cell_type": "markdown",
   "metadata": {},
   "source": [
    "You can find the detailed Quandl API instructions here: https://docs.quandl.com/docs/time-series"
   ]
  },
  {
   "cell_type": "markdown",
   "metadata": {},
   "source": [
    "While there is a dedicated Python package for connecting to the Quandl API, we would prefer that you use the *requests* package, which can be easily downloaded using *pip* or *conda*. You can find the documentation for the package here: http://docs.python-requests.org/en/master/ "
   ]
  },
  {
   "cell_type": "markdown",
   "metadata": {},
   "source": [
    "Finally, apart from the *requests* package, you are encouraged to not use any third party Python packages, such as *pandas*, and instead focus on what's available in the Python Standard Library (the *collections* module might come in handy: https://pymotw.com/3/collections/ ).\n",
    "Also, since you won't have access to DataFrames, you are encouraged to us Python's native data structures - preferably dictionaries, though some questions can also be answered using lists.\n",
    "You can read more on these data structures here: https://docs.python.org/3/tutorial/datastructures.html"
   ]
  },
  {
   "cell_type": "markdown",
   "metadata": {},
   "source": [
    "Keep in mind that the JSON responses you will be getting from the API map almost one-to-one to Python's dictionaries. Unfortunately, they can be very nested, so make sure you read up on indexing dictionaries in the documentation provided above."
   ]
  },
  {
   "cell_type": "code",
   "execution_count": 4,
   "metadata": {},
   "outputs": [],
   "source": [
    "# First, import the relevant modules\n",
    "import requests\n"
   ]
  },
  {
   "cell_type": "code",
   "execution_count": 5,
   "metadata": {},
   "outputs": [
    {
     "name": "stdout",
     "output_type": "stream",
     "text": [
      "{\"dataset_data\":{\"limit\":10,\"transform\":null,\"column_index\":null,\"column_names\":[\"Date\",\"Open\",\"High\",\"Low\",\"Close\",\"Change\",\"Traded Volume\",\"Turnover\",\"Last Price of the Day\",\"Daily Traded Units\",\"Daily Turnover\"],\"start_date\":\"2020-04-08\",\"end_date\":\"2020-04-08\",\"frequency\":\"daily\",\"data\":[[\"2020-04-08\",35.6,35.6,33.1,33.9,null,7980.0,268484.25,null,null,null]],\"collapse\":null,\"order\":null}}\n",
      "<class 'str'>\n"
     ]
    }
   ],
   "source": [
    "# Now, call the Quandl API and pull out a small sample of the data (only one day) to get a glimpse\n",
    "# into the JSON structure that will be returned\n",
    "url = 'https://www.quandl.com/api/v3/datasets/FSE/BDT_X/data.json'\n",
    "\n",
    "\n",
    "parameters = dict(api_key = API_KEY, limit = 10, start_date = '2020-04-08' , end_date = '2020-04-08')\n",
    "\n",
    "response = requests.get(url,params=parameters)\n",
    "\n",
    "print(response.text)\n",
    "print(type(response.text))\n"
   ]
  },
  {
   "cell_type": "code",
   "execution_count": 6,
   "metadata": {},
   "outputs": [
    {
     "name": "stdout",
     "output_type": "stream",
     "text": [
      "{'dataset_data': {'limit': 10, 'transform': None, 'column_index': None, 'column_names': ['Date', 'Open', 'High', 'Low', 'Close', 'Change', 'Traded Volume', 'Turnover', 'Last Price of the Day', 'Daily Traded Units', 'Daily Turnover'], 'start_date': '2020-04-08', 'end_date': '2020-04-08', 'frequency': 'daily', 'data': [['2020-04-08', 35.6, 35.6, 33.1, 33.9, None, 7980.0, 268484.25, None, None, None]], 'collapse': None, 'order': None}}\n",
      "<class 'dict'>\n"
     ]
    }
   ],
   "source": [
    "# Inspect the JSON structure of the object you created, and take note of how nested it is,\n",
    "# as well as the overall structure\n",
    "\n",
    "json_format = response.json()\n",
    "\n",
    "print(json_format)\n",
    "print(type(json_format))"
   ]
  },
  {
   "cell_type": "markdown",
   "metadata": {},
   "source": [
    "These are your tasks for this mini project:\n",
    "\n",
    "1. Collect data from the Franfurt Stock Exchange, for the ticker AFX_X, for the whole year 2017 (keep in mind that the date format is YYYY-MM-DD).\n",
    "2. Convert the returned JSON object into a Python dictionary.\n",
    "3. Calculate what the highest and lowest opening prices were for the stock in this period.\n",
    "4. What was the largest change in any one day (based on High and Low price)?\n",
    "5. What was the largest change between any two days (based on Closing Price)?\n",
    "6. What was the average daily trading volume during this year?\n",
    "7. (Optional) What was the median trading volume during this year. (Note: you may need to implement your own function for calculating the median.)"
   ]
  },
  {
   "cell_type": "markdown",
   "metadata": {
    "collapsed": true
   },
   "source": [
    "###  Task-1 : Collect data from the Franfurt Stock Exchange, for the ticker AFX_X, for the whole year 2017 (keep in mind that the date format is YYYY-MM-DD)."
   ]
  },
  {
   "cell_type": "code",
   "execution_count": 7,
   "metadata": {},
   "outputs": [],
   "source": [
    "url_1 = 'https://www.quandl.com/api/v3/datasets/FSE/AFX_X/data.json'\n",
    "\n",
    "parameters_1 =dict(api_key = API_KEY, start_date = '2017-01-01' , end_date = '2017-12-31')\n",
    "\n",
    "response_1 = requests.get(url_1, parameters_1) # One year data has been stored in response_1 variable. \n",
    "\n"
   ]
  },
  {
   "cell_type": "markdown",
   "metadata": {},
   "source": [
    "### Task-2 : Convert the returned JSON object into a Python dictionary."
   ]
  },
  {
   "cell_type": "code",
   "execution_count": 8,
   "metadata": {},
   "outputs": [
    {
     "name": "stdout",
     "output_type": "stream",
     "text": [
      "<class 'dict'>\n"
     ]
    }
   ],
   "source": [
    "# Converting Received data in form of dictionary using .json() method.\n",
    "\n",
    "json_format_1 = response_1.json()\n",
    "\n",
    "print(type(json_format_1))\n"
   ]
  },
  {
   "cell_type": "markdown",
   "metadata": {},
   "source": [
    "### Task-3 : Calculate what the highest and lowest opening prices were for the stock in this period."
   ]
  },
  {
   "cell_type": "code",
   "execution_count": 55,
   "metadata": {},
   "outputs": [
    {
     "name": "stdout",
     "output_type": "stream",
     "text": [
      "Highest Opening Price = 53.11\n",
      "Lowest Opening Price = 34.0\n"
     ]
    }
   ],
   "source": [
    "# Extracting the valu of 'data' key from the json\n",
    "\n",
    "new_list = json_format_1['dataset_data']['data']\n",
    "\n",
    "\n",
    "# Extracting only opening values into a list named opening_price\n",
    "\n",
    "opening_price = [ x[1] for x in new_list if type(x[1])== float]  \n",
    "\n",
    "\n",
    "# Final answer using max() and min() functions\n",
    "\n",
    "print('Highest Opening Price = ' + str(max(opening_price)))\n",
    "\n",
    "print('Lowest Opening Price = ' + str(min(opening_price)))\n"
   ]
  },
  {
   "cell_type": "markdown",
   "metadata": {},
   "source": [
    "### Task-4 :  What was the largest change in any one day (based on High and Low price)?"
   ]
  },
  {
   "cell_type": "code",
   "execution_count": 62,
   "metadata": {},
   "outputs": [
    {
     "name": "stdout",
     "output_type": "stream",
     "text": [
      "Largest change in any one day  = 2.8100000000000023\n"
     ]
    }
   ],
   "source": [
    "# Extracting difference of High and Low value in a list named day_change. \n",
    "# abs() function is used to get absolute value\n",
    "\n",
    "day_change = [ abs(x[2] - x[3]) for x in new_list if type(x[2])== float and type(x[3])== float ]\n",
    "\n",
    "print('Largest change in any one day  = ' + str(max(day_change)))"
   ]
  },
  {
   "cell_type": "markdown",
   "metadata": {},
   "source": [
    "### Task-5 : What was the largest change between any two days (based on Closing Price)?"
   ]
  },
  {
   "cell_type": "code",
   "execution_count": 106,
   "metadata": {},
   "outputs": [
    {
     "name": "stdout",
     "output_type": "stream",
     "text": [
      "Largest change between any two days = 2.559999999999995\n"
     ]
    }
   ],
   "source": [
    "#Two_day_closing_change  = [ abs(x[2] - x[3]) for x in new_list if type(x[4])== float and type(x[3])== float ]\n",
    "\n",
    "Two_day_closing_change = [abs(l1[4]-l2[4]) for l1, l2 in zip(new_list, new_list[1:]) if type(l1[4])==float and type(l2[4])==float]\n",
    "       \n",
    "\n",
    "\n",
    "print('Largest change between any two days = ' + str(max(Two_day_closing_change)))"
   ]
  },
  {
   "cell_type": "markdown",
   "metadata": {},
   "source": [
    "### Task-6 : What was the average daily trading volume during this year?\n"
   ]
  },
  {
   "cell_type": "code",
   "execution_count": 120,
   "metadata": {},
   "outputs": [
    {
     "name": "stdout",
     "output_type": "stream",
     "text": [
      "the average daily trading volume is 89124.33725490196\n"
     ]
    }
   ],
   "source": [
    "# Extracting daily trading volume into a list named daily_volume\n",
    "\n",
    "daily_volume  = [x[6] for x in new_list if type(x[6])== float]\n",
    "\n",
    "total_volume = 0\n",
    "\n",
    "# Calculating the total of daily volume for the year. \n",
    "\n",
    "for x in daily_volume:\n",
    "    total_volume = total_volume + x \n",
    "\n",
    "    \n",
    "# Calculating average by using len() function    \n",
    "    \n",
    "avg = total_volume/len(daily_volume)\n",
    "\n",
    "print('the average daily trading volume is ' + str(avg))\n",
    "\n"
   ]
  },
  {
   "cell_type": "markdown",
   "metadata": {},
   "source": [
    "### Task-7 : (Optional) What was the median trading volume during this year. (Note: you may need to implement your own function for calculating the median.)"
   ]
  },
  {
   "cell_type": "code",
   "execution_count": 127,
   "metadata": {},
   "outputs": [
    {
     "name": "stdout",
     "output_type": "stream",
     "text": [
      "The median trading volume during the year = 76286.0\n"
     ]
    }
   ],
   "source": [
    "daily_volume.sort()\n",
    "    \n",
    "\n",
    "n = len(daily_volume)\n",
    "\n",
    "if n % 2 == 0:\n",
    "    med1 = daily_volume[n//2]\n",
    "    med2 = daily_volume[n//2 - 1]\n",
    "    med = med1+med2/2\n",
    "    \n",
    "else:\n",
    "    med = daily_volume[n//2]\n",
    "    \n",
    "print('The median trading volume during the year = ' + str(med))\n",
    "    \n"
   ]
  }
 ],
 "metadata": {
  "kernelspec": {
   "display_name": "Python 3",
   "language": "python",
   "name": "python3"
  },
  "language_info": {
   "codemirror_mode": {
    "name": "ipython",
    "version": 3
   },
   "file_extension": ".py",
   "mimetype": "text/x-python",
   "name": "python",
   "nbconvert_exporter": "python",
   "pygments_lexer": "ipython3",
   "version": "3.7.4"
  }
 },
 "nbformat": 4,
 "nbformat_minor": 2
}
